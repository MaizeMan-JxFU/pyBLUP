{
 "cells": [
  {
   "cell_type": "code",
   "execution_count": null,
   "id": "b894881a",
   "metadata": {},
   "outputs": [
    {
     "name": "stdout",
     "output_type": "stream",
     "text": [
      "['#CHROM', 'POS', 'ID', 'REF', 'ALT', 'QUAL', 'FILTER', 'INFO', 'FORMAT']\n"
     ]
    }
   ],
   "source": [
    "import pandas as pd\n",
    "\n",
    "geno = pd.read_csv('geno.tsv',sep='\\t',header=None,).T\n",
    "pheno = pd.read_csv('pheno.tsv',sep='\\t',header=None,)\n",
    "pheno.index = 's'+pheno.index.astype(str)\n",
    "pheno = pheno-pheno.min()+10\n",
    "geno.columns = 's'+geno.columns.astype(str)\n",
    "vcf_head = '#CHROM POS ID REF ALT QUAL FILTER INFO FORMAT'.split(' ')"
   ]
  },
  {
   "cell_type": "code",
   "execution_count": 22,
   "id": "25186365",
   "metadata": {},
   "outputs": [],
   "source": [
    "import numpy as np\n",
    "vcf = pd.DataFrame([[1,i+1,'.','A','T','.','.','PR','GT'] for i in geno.index],columns=vcf_head)\n",
    "pd.concat([vcf,geno],axis=1).to_csv('geno.vcf',sep='\\t',index=None,)"
   ]
  },
  {
   "cell_type": "code",
   "execution_count": 28,
   "id": "d2b907d7",
   "metadata": {},
   "outputs": [],
   "source": [
    "pheno2 = pheno.reset_index()\n",
    "pheno2.columns = ['samples','pseudo-pheno']\n",
    "pheno2.to_csv('pheno.csv',index=None,)"
   ]
  },
  {
   "cell_type": "code",
   "execution_count": null,
   "id": "0253e1ea",
   "metadata": {},
   "outputs": [],
   "source": []
  }
 ],
 "metadata": {
  "kernelspec": {
   "display_name": "ML",
   "language": "python",
   "name": "python3"
  },
  "language_info": {
   "codemirror_mode": {
    "name": "ipython",
    "version": 3
   },
   "file_extension": ".py",
   "mimetype": "text/x-python",
   "name": "python",
   "nbconvert_exporter": "python",
   "pygments_lexer": "ipython3",
   "version": "3.9.21"
  }
 },
 "nbformat": 4,
 "nbformat_minor": 5
}
